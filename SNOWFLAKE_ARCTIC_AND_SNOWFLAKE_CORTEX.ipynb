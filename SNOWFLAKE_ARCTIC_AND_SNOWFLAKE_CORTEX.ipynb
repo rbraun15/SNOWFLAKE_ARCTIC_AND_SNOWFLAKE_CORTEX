{
 "metadata": {
  "kernelspec": {
   "display_name": "Streamlit Notebook",
   "name": "streamlit"
  },
  "lastEditStatus": {
   "notebookId": "4h3ed7zunu5okjjh6ve7",
   "authorId": "1584998124695",
   "authorName": "ADMIN",
   "authorEmail": "ralph.braun@snowflake.com",
   "sessionId": "5bd022ff-b52f-4dab-be92-b73823ef6878",
   "lastEditTime": 1738854036967
  }
 },
 "nbformat_minor": 5,
 "nbformat": 4,
 "cells": [
  {
   "cell_type": "markdown",
   "id": "3775908f-ca36-4846-8f38-5adca39217f2",
   "metadata": {
    "name": "QS_GS_WITH_SNOWFLAKE_ARCTIC_AND_SNOWFLAKE_CORTEX",
    "collapsed": false
   },
   "source": " \n\n# Snowflake Acrtic and Cortex\n\nQuickstart = https://quickstarts.snowflake.com/guide/getting_started_with_snowflake_arctic/index.html?index=..%2F..index#0\n\n\n## Topics / Concepts covered:\n\n- Load Call Transcript Data from S3  Bucket\n- Translate a single statement\n- Translate records based on query of call Transcripts\n- Sentiment scoring based on a query of call Transcripts\n- Summarization of Transcript records\n- Classification (Refund or Exchange) of Transcript records\n- Create Interactive Streamlit App\n\n\n \n\n\n"
  },
  {
   "cell_type": "code",
   "id": "8d50cbf4-0c8d-4950-86cb-114990437ac9",
   "metadata": {
    "language": "sql",
    "name": "cell2",
    "collapsed": false
   },
   "source": "--  In a new SQL worksheet, run the following SQL commands to create the warehouse, database and schema.\n\n\n\nUSE ROLE ACCOUNTADMIN;\n\nCREATE WAREHOUSE IF NOT EXISTS DASH_S WAREHOUSE_SIZE=SMALL;\nCREATE DATABASE IF NOT EXISTS DASH_DB;\nCREATE SCHEMA IF NOT EXISTS DASH_SCHEMA;\n\nUSE DASH_DB.DASH_SCHEMA;\nUSE WAREHOUSE DASH_S;",
   "execution_count": null,
   "outputs": []
  },
  {
   "cell_type": "code",
   "id": "c695373e-ac74-4b62-a1f1-08206cbd5c81",
   "metadata": {
    "language": "sql",
    "name": "cell3",
    "collapsed": false
   },
   "source": "-- In the same SQL worksheet, run the following SQL commands to create table CALL_TRANSCRIPTS from data hosted on publicly accessible S3 bucket.\n\nCREATE or REPLACE file format csvformat\n  SKIP_HEADER = 1\n  FIELD_OPTIONALLY_ENCLOSED_BY = '\"'\n  type = 'CSV';\n\nCREATE or REPLACE stage call_transcripts_data_stage\n  file_format = csvformat\n  url = 's3://sfquickstarts/misc/call_transcripts/';\n\nCREATE or REPLACE table CALL_TRANSCRIPTS ( \n  date_created date,\n  language varchar(60),\n  country varchar(60),\n  product varchar(60),\n  category varchar(60),\n  damage_type varchar(90),\n  transcript varchar\n);\n\nCOPY into CALL_TRANSCRIPTS\n  from @call_transcripts_data_stage;",
   "execution_count": null,
   "outputs": []
  },
  {
   "cell_type": "code",
   "id": "12cc19bc-2c40-4403-856e-84c6a5ec3029",
   "metadata": {
    "language": "sql",
    "name": "Translate",
    "collapsed": false
   },
   "outputs": [],
   "source": "select snowflake.cortex.translate('wie geht es dir heute?','de_DE','en_XX');\n",
   "execution_count": null
  },
  {
   "cell_type": "code",
   "id": "dc866aa6-6b58-4446-ba32-0adc0d648fc7",
   "metadata": {
    "language": "sql",
    "name": "Translate_Batch",
    "collapsed": false
   },
   "outputs": [],
   "source": "USE DASH_DB.DASH_SCHEMA;\nUSE WAREHOUSE DASH_S;\nselect transcript,snowflake.cortex.translate(transcript,'de_DE','en_XX') from call_transcripts where language = 'German';\n",
   "execution_count": null
  },
  {
   "cell_type": "code",
   "id": "1461ea73-2b43-4e50-a865-5d2b59604469",
   "metadata": {
    "language": "sql",
    "name": "Sentiment",
    "collapsed": false
   },
   "outputs": [],
   "source": "select transcript, snowflake.cortex.sentiment(transcript) from call_transcripts where language = 'English';\n",
   "execution_count": null
  },
  {
   "cell_type": "code",
   "id": "dd7c7998-f2f2-4d70-8eba-ae11450c7aea",
   "metadata": {
    "language": "sql",
    "name": "Summarize",
    "collapsed": false
   },
   "outputs": [],
   "source": "select transcript,snowflake.cortex.summarize(transcript) as summary from call_transcripts where language = 'English' limit 1;\n",
   "execution_count": null
  },
  {
   "cell_type": "code",
   "id": "1c0e1cb9-7d75-4949-b398-29ec0b229ed0",
   "metadata": {
    "language": "sql",
    "name": "Summarize_with_token_count",
    "collapsed": false
   },
   "outputs": [],
   "source": "select transcript,snowflake.cortex.summarize(transcript) as summary,snowflake.cortex.count_tokens('summarize',transcript) as number_of_tokens from call_transcripts where language = 'English' limit 1;\n",
   "execution_count": null
  },
  {
   "cell_type": "code",
   "id": "5ab9263b-21a5-4b97-8696-c791d16e8ccd",
   "metadata": {
    "language": "sql",
    "name": "Classify_text",
    "collapsed": false
   },
   "outputs": [],
   "source": "select transcript,snowflake.cortex.classify_text(transcript,['Refund','Exchange']) as classification from call_transcripts where language = 'English';\n",
   "execution_count": null
  },
  {
   "cell_type": "code",
   "id": "c7d01034-0dec-42e4-9339-05dcdf215c51",
   "metadata": {
    "language": "sql",
    "name": "One_transcript_record"
   },
   "outputs": [],
   "source": "select transcript from call_transcripts where language = 'English' limit 1;",
   "execution_count": null
  },
  {
   "cell_type": "code",
   "id": "627802a0-608d-4623-81b9-3e28da5d99f9",
   "metadata": {
    "language": "sql",
    "name": "Prompt_Engineering_Summarize_one_transcript",
    "collapsed": false
   },
   "outputs": [],
   "source": "SET prompt = \n'### \nSummarize this transcript in less than 200 words. \nPut the product name, defect and summary in JSON format. \n###';\n\nselect snowflake.cortex.complete('snowflake-arctic',concat('[INST]',$prompt,transcript,'[/INST]')) as summary\nfrom call_transcripts where language = 'English' limit 1;",
   "execution_count": null
  },
  {
   "cell_type": "code",
   "id": "d37b4a89-91fb-4c66-9c2b-69500a365e2f",
   "metadata": {
    "language": "python",
    "name": "Streamlit_App",
    "collapsed": false
   },
   "outputs": [],
   "source": "# Create a streamlit app with this code\n# App Name = QS_GS_Arctic_and_Cortex_Summarize\n# Set App location (DASH_DB and DASH_SCHEMA) and App warehouse (DASH_S)\n\n\n\n\n# --------------------- SAMPLE TRANSCRIPT\n''' \nCustomer: Hello!\nAgent: Hello! I hope you're having a great day. To best assist you, can you please share your first and last name and the company you're calling from?\nCustomer: Sure, I'm Michael Green from SnowSolutions.\nAgent: Thanks, Michael! What can I help you with today?\nCustomer: We recently ordered several DryProof670 jackets for our store, but when we opened the package, we noticed that half of the jackets have broken zippers. We need to replace them quickly to ensure we have sufficient stock for our customers. Our order number is 60877.\nAgent: I apologize for the inconvenience, Michael. Let me look into your order. It might take me a moment.\nCustomer: Thank you.\n\n'''\n\n\n\n\n\n# ---------------------\n\n\n\n\n\nimport streamlit as st\nfrom snowflake.snowpark.context import get_active_session\n\nst.set_page_config(layout='wide')\nsession = get_active_session()\n\ndef summarize():\n    with st.container():\n        st.header(\"JSON Summary With Snowflake Arctic\")\n        entered_text = st.text_area(\"Enter text\",label_visibility=\"hidden\",height=400,placeholder='Enter text. For example, a call transcript.')\n        btn_summarize = st.button(\"Summarize\",type=\"primary\")\n        if entered_text and btn_summarize:\n            entered_text = entered_text.replace(\"'\", \"\\\\'\")\n            prompt = f\"Summarize this transcript in less than 200 words. Put the product name, defect if any, and summary in JSON format: {entered_text}\"\n            cortex_prompt = \"'[INST] \" + prompt + \" [/INST]'\"\n            cortex_response = session.sql(f\"select snowflake.cortex.complete('snowflake-arctic', {cortex_prompt}) as response\").to_pandas().iloc[0]['RESPONSE']\n            st.json(cortex_response)\n\ndef translate():\n    supported_languages = {'German':'de','French':'fr','Korean':'ko','Portuguese':'pt','English':'en','Italian':'it','Russian':'ru','Swedish':'sv','Spanish':'es','Japanese':'ja','Polish':'pl'}\n    with st.container():\n        st.header(\"Translate With Snowflake Cortex\")\n        col1,col2 = st.columns(2)\n        with col1:\n            from_language = st.selectbox('From',dict(sorted(supported_languages.items())))\n        with col2:\n            to_language = st.selectbox('To',dict(sorted(supported_languages.items())))\n        entered_text = st.text_area(\"Enter text\",label_visibility=\"hidden\",height=300,placeholder='Enter text. For example, a call transcript.')\n        btn_translate = st.button(\"Translate\",type=\"primary\")\n        if entered_text and btn_translate:\n          entered_text = entered_text.replace(\"'\", \"\\\\'\")\n          cortex_response = session.sql(f\"select snowflake.cortex.translate('{entered_text}','{supported_languages[from_language]}','{supported_languages[to_language]}') as response\").to_pandas().iloc[0]['RESPONSE']\n          st.write(cortex_response)\n\ndef sentiment_analysis():\n    with st.container():\n        st.header(\"Sentiment Analysis With Snowflake Cortex\")\n        entered_text = st.text_area(\"Enter text\",label_visibility=\"hidden\",height=400,placeholder='Enter text. For example, a call transcript.')\n        btn_sentiment = st.button(\"Sentiment Score\",type=\"primary\")\n        if entered_text and btn_sentiment:\n          entered_text = entered_text.replace(\"'\", \"\\\\'\")\n          cortex_response = session.sql(f\"select snowflake.cortex.sentiment('{entered_text}') as sentiment\").to_pandas().iloc[0]['SENTIMENT']\n          st.text(f\"Sentiment score: {cortex_response}\")\n          st.caption(\"Note: Score is between -1 and 1; -1 = Most negative, 1 = Positive, 0 = Neutral\")  \n\npage_names_to_funcs = {\n    \"JSON Summary\": summarize,\n    \"Translate\": translate,\n    \"Sentiment Analysis\": sentiment_analysis,\n}\n\nselected_page = st.sidebar.selectbox(\"Select\", page_names_to_funcs.keys())\npage_names_to_funcs[selected_page]()\n",
   "execution_count": null
  }
 ]
}